{
  "nbformat": 4,
  "nbformat_minor": 0,
  "metadata": {
    "colab": {
      "provenance": [],
      "mount_file_id": "1wFU8XeAGgGvYs1C5AQ_B_ktoekl5EMTm",
      "authorship_tag": "ABX9TyMZL59bp6riV7HCiXsHdIc+",
      "include_colab_link": true
    },
    "kernelspec": {
      "name": "python3",
      "display_name": "Python 3"
    },
    "language_info": {
      "name": "python"
    }
  },
  "cells": [
    {
      "cell_type": "markdown",
      "metadata": {
        "id": "view-in-github",
        "colab_type": "text"
      },
      "source": [
        "<a href=\"https://colab.research.google.com/github/SeptiLutfiana/PCVK_Ganjil_2023/blob/main/Kuis.ipynb\" target=\"_parent\"><img src=\"https://colab.research.google.com/assets/colab-badge.svg\" alt=\"Open In Colab\"/></a>"
      ]
    },
    {
      "cell_type": "markdown",
      "source": [
        "## Pre-Prosesing"
      ],
      "metadata": {
        "id": "rOorVDpHsCPb"
      }
    },
    {
      "cell_type": "code",
      "source": [
        "import cv2\n",
        "image = cv2.imread('/content/drive/MyDrive/PCVK/KTP_More/ktp4.png')\n",
        "\n",
        "def pre_processing(image):\n",
        "    # Konversi ke skala abu-abu\n",
        "    grayscale_image = cv2.cvtColor(image, cv2.COLOR_BGR2GRAY)\n",
        "\n",
        "    # Normalisasi intensitas\n",
        "    normalized_image = cv2.normalize(grayscale_image, None, 0, 1, cv2.NORM_MINMAX)\n",
        "\n",
        "    # Pemfilteran\n",
        "    blur_image = cv2.GaussianBlur(normalized_image, (5, 5), 0)\n",
        "\n",
        "    # Periksa apakah image kosong\n",
        "    if blur_image.shape[0] == 0 or blur_image.shape[1] == 0:\n",
        "        return None\n",
        "\n",
        "    return blur_image"
      ],
      "metadata": {
        "id": "_Z6mOAlKsAiM"
      },
      "execution_count": 81,
      "outputs": []
    },
    {
      "cell_type": "markdown",
      "source": [
        "## Lokalisasi"
      ],
      "metadata": {
        "id": "q-PjR8_YsIQO"
      }
    },
    {
      "cell_type": "code",
      "source": [
        "def localization(image):\n",
        "    # Membaca model Haar Cascade Classifier\n",
        "    cascade = cv2.CascadeClassifier(cv2.data.haarcascades + \"haarcascade_frontalface_default.xml\")\n",
        "\n",
        "    # Mendeteksi wajah pada citra\n",
        "    faces = cascade.detectMultiScale(image, scaleFactor=1.1, minNeighbors=5)\n",
        "    return faces\n"
      ],
      "metadata": {
        "id": "XtY7drctsJ8k"
      },
      "execution_count": 82,
      "outputs": []
    },
    {
      "cell_type": "markdown",
      "source": [
        "## Segmentasi"
      ],
      "metadata": {
        "id": "OyS8Pa2psKeV"
      }
    },
    {
      "cell_type": "code",
      "source": [
        "def segmentation(image, faces):\n",
        "    # Menginisialisasi array untuk menyimpan wajah yang tersegmentasi\n",
        "    segmented_faces = []\n",
        "\n",
        "    # Melakukan segmentasi untuk setiap wajah yang terdeteksi\n",
        "    for face in faces:\n",
        "        # Mengambil area wajah dari citra\n",
        "        face_area = image[face[1]:face[1] + face[3], face[0]:face[0] + face[2]]\n",
        "\n",
        "        # Melakukan thresholding untuk memisahkan wajah dari latar belakang\n",
        "        thresholded_face = cv2.threshold(face_area, 127, 255, cv2.THRESH_BINARY)[1]\n",
        "\n",
        "        # Menambahkan wajah yang tersegmentasi ke array\n",
        "        segmented_faces.append(thresholded_face)\n",
        "\n",
        "    return segmented_faces\n"
      ],
      "metadata": {
        "id": "Up9PqA0LsNxi"
      },
      "execution_count": 83,
      "outputs": []
    },
    {
      "cell_type": "markdown",
      "source": [
        "## Recognition"
      ],
      "metadata": {
        "id": "BfkBKbSssSpx"
      }
    },
    {
      "cell_type": "code",
      "source": [
        "def recognition(face, model):\n",
        "    # Melakukan ekstraksi fitur dari wajah\n",
        "    features = model.predict(face.reshape(1, face.shape[0], face.shape[1], 1))\n",
        "\n",
        "    # Mengembalikan identitas wajah\n",
        "    return model.classes_[np.argmax(features)]\n"
      ],
      "metadata": {
        "id": "KwmG871csXUL"
      },
      "execution_count": 84,
      "outputs": []
    },
    {
      "cell_type": "code",
      "source": [
        "# Melakukan pengenalan\n",
        "for face in segmented_faces:\n",
        "    # Menampilkan hasil pengenalan\n",
        "    print(\"Identitas wajah:\", recognition(face, model))"
      ],
      "metadata": {
        "id": "PJxD_nZizKuC"
      },
      "execution_count": 85,
      "outputs": []
    },
    {
      "cell_type": "code",
      "execution_count": 86,
      "metadata": {
        "id": "pccCLovYq2Tq"
      },
      "outputs": [],
      "source": [
        "import cv2\n",
        "import numpy as np\n",
        "# Melakukan pre-processing\n",
        "preprocessed_image = pre_processing(image)\n",
        "\n",
        "# Melakukan lokalisasi\n",
        "faces = localization(preprocessed_image)\n",
        "\n",
        "# Melakukan segmentasi\n",
        "segmented_faces = segmentation(preprocessed_image, faces)\n",
        "\n",
        "# Melakukan pengenalan\n",
        "for face in segmented_faces:\n",
        "    # Menampilkan hasil pengenalan\n",
        "    print(\"Identitas wajah:\", recognition(face, model))\n"
      ]
    },
    {
      "cell_type": "markdown",
      "source": [
        "cara 2"
      ],
      "metadata": {
        "id": "5yaTdiojvzhy"
      }
    },
    {
      "cell_type": "code",
      "source": [],
      "metadata": {
        "id": "FmohijgwvuyR"
      },
      "execution_count": null,
      "outputs": []
    }
  ]
}