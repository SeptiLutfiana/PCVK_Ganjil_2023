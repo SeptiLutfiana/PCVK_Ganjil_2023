{
  "nbformat": 4,
  "nbformat_minor": 0,
  "metadata": {
    "colab": {
      "provenance": [],
      "mount_file_id": "https://github.com/SeptiLutfiana/PCVK_Ganjil_2023/blob/main/Week2.ipynb",
      "authorship_tag": "ABX9TyPJYgv3xZTgpYCxkPus/xUY",
      "include_colab_link": true
    },
    "kernelspec": {
      "name": "python3",
      "display_name": "Python 3"
    },
    "language_info": {
      "name": "python"
    }
  },
  "cells": [
    {
      "cell_type": "markdown",
      "metadata": {
        "id": "view-in-github",
        "colab_type": "text"
      },
      "source": [
        "<a href=\"https://colab.research.google.com/github/SeptiLutfiana/PCVK_Ganjil_2023/blob/main/Week2.ipynb\" target=\"_parent\"><img src=\"https://colab.research.google.com/assets/colab-badge.svg\" alt=\"Open In Colab\"/></a>"
      ]
    },
    {
      "cell_type": "markdown",
      "source": [
        "* Nama: Septi Lutfiana\n",
        "* NIM: 2141720038\n",
        "* Kelas: 2H D-IV TI\n"
      ],
      "metadata": {
        "id": "mm2S0UgK0SNC"
      }
    },
    {
      "cell_type": "code",
      "execution_count": 3,
      "metadata": {
        "id": "Iu2m0pg65mgj",
        "outputId": "c4e4af56-c0cd-4da6-d20b-08a456128a3e",
        "colab": {
          "base_uri": "https://localhost:8080/"
        }
      },
      "outputs": [
        {
          "output_type": "stream",
          "name": "stdout",
          "text": [
            "Mounted at /content/drive\n"
          ]
        }
      ],
      "source": [
        "from google.colab import drive\n",
        "\n",
        "# Accessing My Google drive\n",
        "drive.mount('/content/drive')"
      ]
    }
  ]
}